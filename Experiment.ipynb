{
 "cells": [
  {
   "cell_type": "code",
   "execution_count": 2,
   "id": "b4620604-d244-440c-ada3-d3eac2c4ca72",
   "metadata": {},
   "outputs": [
    {
     "name": "stdout",
     "output_type": "stream",
     "text": [
      "data_shapes/ctprvn.shp\n",
      "PROJCS[\"PCS_ITRF2000_TM\",GEOGCS[\"ITRF2000\",DATUM[\"International_Terrestrial_Reference_Frame_2000\",SPHEROID[\"GRS 1980\",6378137,298.257222101,AUTHORITY[\"EPSG\",\"7019\"]],AUTHORITY[\"EPSG\",\"6656\"]],PRIMEM[\"Greenwich\",0],UNIT[\"Degree\",0.0174532925199433]],PROJECTION[\"Transverse_Mercator\"],PARAMETER[\"latitude_of_origin\",38],PARAMETER[\"central_meridian\",127.5],PARAMETER[\"scale_factor\",0.9996],PARAMETER[\"false_easting\",1000000],PARAMETER[\"false_northing\",2000000],UNIT[\"metre\",1,AUTHORITY[\"EPSG\",\"9001\"]],AXIS[\"Easting\",EAST],AXIS[\"Northing\",NORTH]]\n"
     ]
    }
   ],
   "source": [
    "import matplotlib.pyplot as plt\n",
    "import fiona\n",
    "import geopandas as gpd\n",
    "import os\n",
    "from shapely.ops import unary_union\n",
    "\n",
    "path = \"data_shapes/ctprvn.shp\"\n",
    "print(path)\n",
    "c = fiona.open(path, encoding='cp949')\n",
    "print(c.crs)\n",
    "gdf = gpd.GeoDataFrame.from_features(c, crs=c.crs).to_crs('epsg:5174') #epsg5174"
   ]
  },
  {
   "cell_type": "code",
   "execution_count": 3,
   "id": "a6545650-8f61-4efb-9034-0763c106f759",
   "metadata": {},
   "outputs": [
    {
     "name": "stdout",
     "output_type": "stream",
     "text": [
      "<class 'geopandas.geodataframe.GeoDataFrame'>\n",
      "RangeIndex: 17 entries, 0 to 16\n",
      "Data columns (total 4 columns):\n",
      " #   Column      Non-Null Count  Dtype   \n",
      "---  ------      --------------  -----   \n",
      " 0   geometry    17 non-null     geometry\n",
      " 1   CTPRVN_CD   17 non-null     object  \n",
      " 2   CTP_ENG_NM  17 non-null     object  \n",
      " 3   CTP_KOR_NM  17 non-null     object  \n",
      "dtypes: geometry(1), object(3)\n",
      "memory usage: 676.0+ bytes\n"
     ]
    }
   ],
   "source": [
    "gdf.info()"
   ]
  },
  {
   "cell_type": "code",
   "execution_count": 4,
   "id": "682cef60-3682-4f90-a202-9a3f701a6d3e",
   "metadata": {},
   "outputs": [
    {
     "data": {
      "text/html": [
       "<div>\n",
       "<style scoped>\n",
       "    .dataframe tbody tr th:only-of-type {\n",
       "        vertical-align: middle;\n",
       "    }\n",
       "\n",
       "    .dataframe tbody tr th {\n",
       "        vertical-align: top;\n",
       "    }\n",
       "\n",
       "    .dataframe thead th {\n",
       "        text-align: right;\n",
       "    }\n",
       "</style>\n",
       "<table border=\"1\" class=\"dataframe\">\n",
       "  <thead>\n",
       "    <tr style=\"text-align: right;\">\n",
       "      <th></th>\n",
       "      <th>geometry</th>\n",
       "      <th>CTPRVN_CD</th>\n",
       "      <th>CTP_ENG_NM</th>\n",
       "      <th>CTP_KOR_NM</th>\n",
       "    </tr>\n",
       "  </thead>\n",
       "  <tbody>\n",
       "    <tr>\n",
       "      <th>0</th>\n",
       "      <td>POLYGON ((211135.603 440723.981, 211135.497 44...</td>\n",
       "      <td>11</td>\n",
       "      <td>Seoul</td>\n",
       "      <td>서울특별시</td>\n",
       "    </tr>\n",
       "    <tr>\n",
       "      <th>1</th>\n",
       "      <td>MULTIPOLYGON (((393748.698 185883.929, 393745....</td>\n",
       "      <td>26</td>\n",
       "      <td>Busan</td>\n",
       "      <td>부산광역시</td>\n",
       "    </tr>\n",
       "    <tr>\n",
       "      <th>2</th>\n",
       "      <td>POLYGON ((333003.156 260257.335, 333003.108 26...</td>\n",
       "      <td>27</td>\n",
       "      <td>Daegu</td>\n",
       "      <td>대구광역시</td>\n",
       "    </tr>\n",
       "    <tr>\n",
       "      <th>3</th>\n",
       "      <td>MULTIPOLYGON (((92257.367 380783.8, 92263.117 ...</td>\n",
       "      <td>28</td>\n",
       "      <td>Incheon</td>\n",
       "      <td>인천광역시</td>\n",
       "    </tr>\n",
       "    <tr>\n",
       "      <th>4</th>\n",
       "      <td>POLYGON ((178112.669 195515.871, 178181.762 19...</td>\n",
       "      <td>29</td>\n",
       "      <td>Gwangju</td>\n",
       "      <td>광주광역시</td>\n",
       "    </tr>\n",
       "    <tr>\n",
       "      <th>5</th>\n",
       "      <td>POLYGON ((235673.778 332084.746, 235785.435 33...</td>\n",
       "      <td>30</td>\n",
       "      <td>Daejeon</td>\n",
       "      <td>대전광역시</td>\n",
       "    </tr>\n",
       "    <tr>\n",
       "      <th>6</th>\n",
       "      <td>MULTIPOLYGON (((413390.578 210823.043, 413390....</td>\n",
       "      <td>31</td>\n",
       "      <td>Ulsan</td>\n",
       "      <td>울산광역시</td>\n",
       "    </tr>\n",
       "    <tr>\n",
       "      <th>7</th>\n",
       "      <td>POLYGON ((215892.972 343985.09, 215891.081 343...</td>\n",
       "      <td>36</td>\n",
       "      <td>Sejong-si</td>\n",
       "      <td>세종특별자치시</td>\n",
       "    </tr>\n",
       "    <tr>\n",
       "      <th>8</th>\n",
       "      <td>MULTIPOLYGON (((175988.716 393890.059, 176035....</td>\n",
       "      <td>41</td>\n",
       "      <td>Gyeonggi-do</td>\n",
       "      <td>경기도</td>\n",
       "    </tr>\n",
       "    <tr>\n",
       "      <th>9</th>\n",
       "      <td>POLYGON ((286993.715 417665.653, 287035.684 41...</td>\n",
       "      <td>43</td>\n",
       "      <td>Chungcheongbuk-do</td>\n",
       "      <td>충청북도</td>\n",
       "    </tr>\n",
       "    <tr>\n",
       "      <th>10</th>\n",
       "      <td>MULTIPOLYGON (((107209.608 304305.67, 107121.0...</td>\n",
       "      <td>44</td>\n",
       "      <td>Chungcheongnam-do</td>\n",
       "      <td>충청남도</td>\n",
       "    </tr>\n",
       "    <tr>\n",
       "      <th>11</th>\n",
       "      <td>MULTIPOLYGON (((147959.285 216694.449, 147962....</td>\n",
       "      <td>45</td>\n",
       "      <td>Jeollabuk-do</td>\n",
       "      <td>전라북도</td>\n",
       "    </tr>\n",
       "    <tr>\n",
       "      <th>12</th>\n",
       "      <td>MULTIPOLYGON (((192700.308 54611.956, 192697.5...</td>\n",
       "      <td>46</td>\n",
       "      <td>Jellanam-do</td>\n",
       "      <td>전라남도</td>\n",
       "    </tr>\n",
       "    <tr>\n",
       "      <th>13</th>\n",
       "      <td>MULTIPOLYGON (((424922.593 251561.619, 424926....</td>\n",
       "      <td>47</td>\n",
       "      <td>Gyeongsangbuk-do</td>\n",
       "      <td>경상북도</td>\n",
       "    </tr>\n",
       "    <tr>\n",
       "      <th>14</th>\n",
       "      <td>MULTIPOLYGON (((340876.2 140943.056, 340879.30...</td>\n",
       "      <td>48</td>\n",
       "      <td>Gyeongsangnam-do</td>\n",
       "      <td>경상남도</td>\n",
       "    </tr>\n",
       "    <tr>\n",
       "      <th>15</th>\n",
       "      <td>MULTIPOLYGON (((131550.894 -42204.77, 131543.0...</td>\n",
       "      <td>50</td>\n",
       "      <td>Jeju-do</td>\n",
       "      <td>제주특별자치도</td>\n",
       "    </tr>\n",
       "    <tr>\n",
       "      <th>16</th>\n",
       "      <td>MULTIPOLYGON (((408169.868 410289.363, 408171....</td>\n",
       "      <td>51</td>\n",
       "      <td>Gangwon-do</td>\n",
       "      <td>강원특별자치도</td>\n",
       "    </tr>\n",
       "  </tbody>\n",
       "</table>\n",
       "</div>"
      ],
      "text/plain": [
       "                                             geometry CTPRVN_CD  \\\n",
       "0   POLYGON ((211135.603 440723.981, 211135.497 44...        11   \n",
       "1   MULTIPOLYGON (((393748.698 185883.929, 393745....        26   \n",
       "2   POLYGON ((333003.156 260257.335, 333003.108 26...        27   \n",
       "3   MULTIPOLYGON (((92257.367 380783.8, 92263.117 ...        28   \n",
       "4   POLYGON ((178112.669 195515.871, 178181.762 19...        29   \n",
       "5   POLYGON ((235673.778 332084.746, 235785.435 33...        30   \n",
       "6   MULTIPOLYGON (((413390.578 210823.043, 413390....        31   \n",
       "7   POLYGON ((215892.972 343985.09, 215891.081 343...        36   \n",
       "8   MULTIPOLYGON (((175988.716 393890.059, 176035....        41   \n",
       "9   POLYGON ((286993.715 417665.653, 287035.684 41...        43   \n",
       "10  MULTIPOLYGON (((107209.608 304305.67, 107121.0...        44   \n",
       "11  MULTIPOLYGON (((147959.285 216694.449, 147962....        45   \n",
       "12  MULTIPOLYGON (((192700.308 54611.956, 192697.5...        46   \n",
       "13  MULTIPOLYGON (((424922.593 251561.619, 424926....        47   \n",
       "14  MULTIPOLYGON (((340876.2 140943.056, 340879.30...        48   \n",
       "15  MULTIPOLYGON (((131550.894 -42204.77, 131543.0...        50   \n",
       "16  MULTIPOLYGON (((408169.868 410289.363, 408171....        51   \n",
       "\n",
       "           CTP_ENG_NM CTP_KOR_NM  \n",
       "0               Seoul      서울특별시  \n",
       "1               Busan      부산광역시  \n",
       "2               Daegu      대구광역시  \n",
       "3             Incheon      인천광역시  \n",
       "4             Gwangju      광주광역시  \n",
       "5             Daejeon      대전광역시  \n",
       "6               Ulsan      울산광역시  \n",
       "7           Sejong-si    세종특별자치시  \n",
       "8         Gyeonggi-do        경기도  \n",
       "9   Chungcheongbuk-do       충청북도  \n",
       "10  Chungcheongnam-do       충청남도  \n",
       "11       Jeollabuk-do       전라북도  \n",
       "12        Jellanam-do       전라남도  \n",
       "13   Gyeongsangbuk-do       경상북도  \n",
       "14   Gyeongsangnam-do       경상남도  \n",
       "15            Jeju-do    제주특별자치도  \n",
       "16         Gangwon-do    강원특별자치도  "
      ]
     },
     "execution_count": 4,
     "metadata": {},
     "output_type": "execute_result"
    }
   ],
   "source": [
    "gdf"
   ]
  },
  {
   "cell_type": "code",
   "execution_count": 15,
   "id": "16bd48b8-24a6-439b-917e-6c329a8d86da",
   "metadata": {},
   "outputs": [],
   "source": [
    "population_data = {\n",
    "    \"전국\": 51159889,\n",
    "    \"서울특별시\": 9323492,\n",
    "    \"부산광역시\": 3251625,\n",
    "    \"대구광역시\": 2357040,\n",
    "    \"인천광역시\": 3041215,\n",
    "    \"광주광역시\": 1398538,\n",
    "    \"대전광역시\": 1460|682,\n",
    "    \"울산광역시\": 1093317,\n",
    "    \"세종특별자치시\": 392154,\n",
    "    \"경기도\": 13715016,\n",
    "    \"강원특별자치도\": 1510181,\n",
    "    \"충청북도\": 1591815,\n",
    "    \"충청남도\": 2136299,\n",
    "    \"전라북도\": 1729337,\n",
    "    \"전라남도\": 1782183,\n",
    "    \"경상북도\": 2516753,\n",
    "    \"경상남도\": 3214016,\n",
    "    \"제주특별자치도\": 666226\n",
    "}"
   ]
  },
  {
   "cell_type": "code",
   "execution_count": 16,
   "id": "53494b53-0626-4e6f-a3f9-8bd33079e93c",
   "metadata": {},
   "outputs": [
    {
     "name": "stdout",
     "output_type": "stream",
     "text": [
      "9323492\n",
      "3251625\n",
      "2357040\n",
      "3041215\n",
      "1398538\n",
      "1982\n",
      "1093317\n",
      "392154\n",
      "13715016\n",
      "1591815\n",
      "2136299\n",
      "1729337\n",
      "1782183\n",
      "2516753\n",
      "3214016\n",
      "666226\n",
      "1510181\n"
     ]
    }
   ],
   "source": [
    "for index, row in gdf.iterrows():\n",
    "    print(population_data[row['CTP_KOR_NM']])"
   ]
  },
  {
   "cell_type": "code",
   "execution_count": 17,
   "id": "477613bb-785d-4e7b-a306-c6ffff0e9db2",
   "metadata": {},
   "outputs": [
    {
     "data": {
      "text/plain": [
       "<Axes: >"
      ]
     },
     "execution_count": 17,
     "metadata": {},
     "output_type": "execute_result"
    },
    {
     "data": {
      "image/png": "[encoded data removed]",
      "text/plain": [
       "<Figure size 640x480 with 1 Axes>"
      ]
     },
     "metadata": {},
     "output_type": "display_data"
    }
   ],
   "source": [
    "gdf.plot()"
   ]
  },
  {
   "cell_type": "code",
   "execution_count": null,
   "id": "1f135b25-b4ce-4e90-ada4-3ef4c016b535",
   "metadata": {},
   "outputs": [],
   "source": []
  }
 ],
 "metadata": {
  "kernelspec": {
   "display_name": "Python 3 (ipykernel)",
   "language": "python",
   "name": "python3"
  },
  "language_info": {
   "codemirror_mode": {
    "name": "ipython",
    "version": 3
   },
   "file_extension": ".py",
   "mimetype": "text/x-python",
   "name": "python",
   "nbconvert_exporter": "python",
   "pygments_lexer": "ipython3",
   "version": "3.11.6"
  }
 },
 "nbformat": 4,
 "nbformat_minor": 5
}
